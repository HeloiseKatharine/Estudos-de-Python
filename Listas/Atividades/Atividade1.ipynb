{
  "nbformat": 4,
  "nbformat_minor": 0,
  "metadata": {
    "colab": {
      "name": "Atividade.ipynb",
      "provenance": []
    },
    "kernelspec": {
      "name": "python3",
      "display_name": "Python 3"
    },
    "language_info": {
      "name": "python"
    }
  },
  "cells": [
    {
      "cell_type": "markdown",
      "metadata": {
        "id": "oDw7mI-urzVK"
      },
      "source": [
        "##1) Faça um Programa que leia uma lista de 5 números inteiros e mostre-os."
      ]
    },
    {
      "cell_type": "code",
      "metadata": {
        "id": "r0i9-UAPrwpQ"
      },
      "source": [
        "lista = []\n",
        "\n",
        "for i in range(5):\n",
        "  num = int(input('digite o {} valor da lista: '.format(i+1)))\n",
        "  lista.append(num)\n",
        "\n",
        "print(lista)"
      ],
      "execution_count": null,
      "outputs": []
    },
    {
      "cell_type": "markdown",
      "metadata": {
        "id": "NlqJ4Vk8r2hB"
      },
      "source": [
        "##2) Faça um Programa que leia uma lista de 10 números reais e mostre-os na ordem inversa."
      ]
    },
    {
      "cell_type": "code",
      "metadata": {
        "id": "7HHhffzgr4_l"
      },
      "source": [
        "lista = []\n",
        "\n",
        "for i in range(10):\n",
        "  num = float(input('digite o {} valor da lista: '.format(i+1)))\n",
        "  lista.append(num)\n",
        "\n",
        "lista.reverse()\n",
        "print(lista)"
      ],
      "execution_count": null,
      "outputs": []
    },
    {
      "cell_type": "markdown",
      "metadata": {
        "id": "PX4iev-mr7Tr"
      },
      "source": [
        "##3) Faça um Programa que leia 4 notas, mostre as notas e a média na tela."
      ]
    },
    {
      "cell_type": "code",
      "metadata": {
        "id": "MpzIwUMOr-Z0"
      },
      "source": [
        "notas = []\n",
        "soma = 0\n",
        "\n",
        "for i in range(4):\n",
        "  num = float(input('digite a {} nota: '.format(i+1)))\n",
        "  notas.append(num)\n",
        "\n",
        "\n",
        "for i in notas:\n",
        "  soma += i\n",
        "\n",
        "print(\"\\nA média é: {}\".format(soma/4))"
      ],
      "execution_count": null,
      "outputs": []
    },
    {
      "cell_type": "markdown",
      "metadata": {
        "id": "eKpgqUo_sDC1"
      },
      "source": [
        "##4) Faça um Programa que leia 20 números inteiros e armazene-os numa lista. Armazene os números pares na listar PAR e os números IMPARES na lista ímpar. Imprima os três vetores."
      ]
    },
    {
      "cell_type": "code",
      "metadata": {
        "id": "eskY4lCHsHDS"
      },
      "source": [
        "numeros = []\n",
        "par = []\n",
        "impar = []\n",
        "\n",
        "#armazenando todos os numeros\n",
        "for i in range(20):\n",
        "  num = int(input('digite o {} numero: '.format(i+1)))\n",
        "  numeros.append(num)\n",
        "\n",
        "for i in numeros:\n",
        "  if(i%2 == 0):\n",
        "    par.append(i)\n",
        "  else:\n",
        "    impar.append(i)\n",
        "\n",
        "print(par)\n",
        "print(impar)"
      ],
      "execution_count": null,
      "outputs": []
    }
  ]
}