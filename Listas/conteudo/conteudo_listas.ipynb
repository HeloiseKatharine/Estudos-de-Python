{
  "nbformat": 4,
  "nbformat_minor": 0,
  "metadata": {
    "colab": {
      "name": "conteudo_listas.ipynb",
      "provenance": [],
      "collapsed_sections": []
    },
    "kernelspec": {
      "name": "python3",
      "display_name": "Python 3"
    },
    "language_info": {
      "name": "python"
    }
  },
  "cells": [
    {
      "cell_type": "markdown",
      "metadata": {
        "id": "pDWVPc2h7MHF"
      },
      "source": [
        "#Lista\n",
        "link da documentação:\n",
        "https://docs.python.org/pt-br/3/tutorial/datastructures.html"
      ]
    },
    {
      "cell_type": "markdown",
      "metadata": {
        "id": "H-RyFTtG7R8x"
      },
      "source": [
        "### Declarando listas"
      ]
    },
    {
      "cell_type": "code",
      "metadata": {
        "id": "kxTTTDEw7GjI"
      },
      "source": [
        "#lista vazia \n",
        "lista1 = []\n",
        "\n",
        "#lista com elementos do tipo int\n",
        "lista2 = [1,2,3,4]\n",
        "\n",
        "#lista com elementos do tipo str\n",
        "lista3 = ['casa', 'carro', 'bicicleta']\n",
        "\n",
        "#lista com elementos de vários tipos\n",
        "lista4  = [1, 'casa', [2,3]]"
      ],
      "execution_count": null,
      "outputs": []
    },
    {
      "cell_type": "markdown",
      "metadata": {
        "id": "YfhTnK3x8CMb"
      },
      "source": [
        "### imprimindo elementos da lista"
      ]
    },
    {
      "cell_type": "code",
      "metadata": {
        "colab": {
          "base_uri": "https://localhost:8080/"
        },
        "id": "jWiUdY4i8Gam",
        "outputId": "79b3f20a-d85c-487f-808c-b60ce92ea6a4"
      },
      "source": [
        "lista = ['casa', 'carro', 'bicicleta', 12, 89, 9.5, [3,5,4]]\n",
        "\n",
        "#imprime o terceiro elemento da lista \n",
        "print(lista[2])\n",
        "\n",
        "#penúltimo valor \n",
        "print(lista[-2])\n",
        "\n",
        "#último valor\n",
        "print(lista[-1])"
      ],
      "execution_count": null,
      "outputs": [
        {
          "output_type": "stream",
          "text": [
            "bicicleta\n",
            "9.5\n",
            "[3, 5, 4]\n"
          ],
          "name": "stdout"
        }
      ]
    },
    {
      "cell_type": "code",
      "metadata": {
        "colab": {
          "base_uri": "https://localhost:8080/"
        },
        "id": "m3tA2E5K8rKs",
        "outputId": "c1b38193-fb42-4b5e-9796-00c41bee0dce"
      },
      "source": [
        "frutas = ['morango', 'maçã', 'abacate', 'pera', 'manga', 'jabuticaba']\n",
        "\n",
        "i = 0\n",
        "while i<6:\n",
        "  print(frutas[i])\n",
        "  i = i+1"
      ],
      "execution_count": null,
      "outputs": [
        {
          "output_type": "stream",
          "text": [
            "morango\n",
            "maçã\n",
            "abacate\n",
            "pera\n",
            "manga\n",
            "jabuticaba\n"
          ],
          "name": "stdout"
        }
      ]
    },
    {
      "cell_type": "markdown",
      "metadata": {
        "id": "Fzl4fgOg85tL"
      },
      "source": [
        "### Tamanho da lista"
      ]
    },
    {
      "cell_type": "code",
      "metadata": {
        "colab": {
          "base_uri": "https://localhost:8080/"
        },
        "id": "GTYs_Abi88r3",
        "outputId": "cc094def-1554-4bf8-8995-042d3120dc4c"
      },
      "source": [
        "frutas = ['morango', 'maçã', 'abacate', 'pera', 'manga', 'jabuticaba']\n",
        "\n",
        "len(frutas)"
      ],
      "execution_count": null,
      "outputs": [
        {
          "output_type": "execute_result",
          "data": {
            "text/plain": [
              "6"
            ]
          },
          "metadata": {},
          "execution_count": 3
        }
      ]
    },
    {
      "cell_type": "markdown",
      "metadata": {
        "id": "9tYYwyfV9D0u"
      },
      "source": [
        "### Para saber se uma determinada palavra está na lista"
      ]
    },
    {
      "cell_type": "code",
      "metadata": {
        "colab": {
          "base_uri": "https://localhost:8080/"
        },
        "id": "V_LEliyY9EOC",
        "outputId": "f20a3ca4-fa34-4bb5-8922-4205d720f8b4"
      },
      "source": [
        "frutas = ['morango', 'maçã', 'abacate', 'pera', 'manga', 'jabuticaba']\n",
        "\n",
        "'abacate' in frutas"
      ],
      "execution_count": null,
      "outputs": [
        {
          "output_type": "execute_result",
          "data": {
            "text/plain": [
              "True"
            ]
          },
          "metadata": {},
          "execution_count": 4
        }
      ]
    },
    {
      "cell_type": "code",
      "metadata": {
        "colab": {
          "base_uri": "https://localhost:8080/"
        },
        "id": "WXpd--WuIGtr",
        "outputId": "dcb5d4b4-adf8-4b89-f13f-8482e4e7f8ed"
      },
      "source": [
        "frutas = ['morango', 'maçã', 'abacate', 'pera', 'manga', 'jabuticaba']\n",
        "\n",
        "if(('abacate' in frutas) == True):\n",
        "  print('Abacate ESTÁ na lista')\n",
        "else:\n",
        "  print('Abacate NÃO está na lista')"
      ],
      "execution_count": null,
      "outputs": [
        {
          "output_type": "stream",
          "text": [
            "Abacate ESTÁ na lista\n"
          ],
          "name": "stdout"
        }
      ]
    },
    {
      "cell_type": "markdown",
      "metadata": {
        "id": "952B51IK0gsN"
      },
      "source": [
        "### \"soma\" e \"multiplicação\" de listas"
      ]
    },
    {
      "cell_type": "code",
      "metadata": {
        "id": "zwdIfG0nILWQ",
        "colab": {
          "base_uri": "https://localhost:8080/"
        },
        "outputId": "43aa32be-698d-4b4a-e933-c6e54f6da27c"
      },
      "source": [
        "a = [1,2,3]\n",
        "b = [4,5,6]\n",
        "#junta a lista \"a\" e \"b\"\n",
        "c = [a+b]\n",
        "\n",
        "#repete os valores 4 vezes \n",
        "d = [1,2,3]*4\n",
        "\n",
        "print(c)\n",
        "print(d)\n"
      ],
      "execution_count": null,
      "outputs": [
        {
          "output_type": "stream",
          "text": [
            "[[1, 2, 3, 4, 5, 6]]\n",
            "[1, 2, 3, 1, 2, 3, 1, 2, 3, 1, 2, 3]\n"
          ],
          "name": "stdout"
        }
      ]
    },
    {
      "cell_type": "markdown",
      "metadata": {
        "id": "l4JzjmNPIO3O"
      },
      "source": [
        "### Adicionando elementos na lista (append)"
      ]
    },
    {
      "cell_type": "code",
      "metadata": {
        "id": "HQRSmmynINmN",
        "colab": {
          "base_uri": "https://localhost:8080/"
        },
        "outputId": "5b40a774-aec0-4f79-a859-3657dc4d97c4"
      },
      "source": [
        "lista = [2]\n",
        "lista.append(\"caderno\")\n",
        "\n",
        "print(lista)\n",
        "\n",
        "lista.append([6,7,4])#insere a lista\n",
        "\n",
        "print(lista)"
      ],
      "execution_count": null,
      "outputs": [
        {
          "output_type": "stream",
          "text": [
            "[2, 'caderno']\n",
            "[2, 'caderno', [6, 7, 4]]\n"
          ],
          "name": "stdout"
        }
      ]
    },
    {
      "cell_type": "markdown",
      "metadata": {
        "id": "PNwZ0RI71Ccx"
      },
      "source": [
        "### Adicionando elementos na lista (extend)"
      ]
    },
    {
      "cell_type": "code",
      "metadata": {
        "colab": {
          "base_uri": "https://localhost:8080/"
        },
        "id": "w0jA7KZf1NIm",
        "outputId": "fa567e2e-7437-4198-a0e9-a17d98c61b1b"
      },
      "source": [
        "lista = [1,2,3]\n",
        "\n",
        "lista.extend([6,7,4])#insere os elementos da lista \n",
        "\n",
        "print(lista)"
      ],
      "execution_count": null,
      "outputs": [
        {
          "output_type": "stream",
          "text": [
            "[1, 2, 3, 6, 7, 4]\n"
          ],
          "name": "stdout"
        }
      ]
    },
    {
      "cell_type": "markdown",
      "metadata": {
        "id": "jKbVnJo_1fKq"
      },
      "source": [
        "### Adicionando elementos na lista (insert)"
      ]
    },
    {
      "cell_type": "code",
      "metadata": {
        "colab": {
          "base_uri": "https://localhost:8080/"
        },
        "id": "wtmZDQ391i1J",
        "outputId": "bc374e8f-cd5c-43c3-cc9d-daa644c8c186"
      },
      "source": [
        "lista = [1,2,3]\n",
        "\n",
        "lista.insert(0,\"borracha\") #insere o elemento no índice indicado\n",
        "\n",
        "print(lista)"
      ],
      "execution_count": null,
      "outputs": [
        {
          "output_type": "stream",
          "text": [
            "['borracha', 1, 2, 3]\n"
          ],
          "name": "stdout"
        }
      ]
    },
    {
      "cell_type": "markdown",
      "metadata": {
        "id": "W14arQGt1oND"
      },
      "source": [
        "### Removendo item de uma lista (remove)"
      ]
    },
    {
      "cell_type": "code",
      "metadata": {
        "id": "YIV9MnRH1una",
        "colab": {
          "base_uri": "https://localhost:8080/"
        },
        "outputId": "4d9f43a8-5e2e-4396-e7b4-f52737d1dbfc"
      },
      "source": [
        "lista = [1,2,3]\n",
        "\n",
        "lista.remove(2)\n",
        "\n",
        "print(lista)"
      ],
      "execution_count": 1,
      "outputs": [
        {
          "output_type": "stream",
          "name": "stdout",
          "text": [
            "[1, 3]\n"
          ]
        }
      ]
    },
    {
      "cell_type": "markdown",
      "metadata": {
        "id": "vbAfACEf11pU"
      },
      "source": [
        "### Removendo item de uma lista (pop)"
      ]
    },
    {
      "cell_type": "code",
      "metadata": {
        "id": "aO8RL28-10u2",
        "colab": {
          "base_uri": "https://localhost:8080/"
        },
        "outputId": "894761e3-4162-401d-cd87-ddb0c076497c"
      },
      "source": [
        "lista = [1,2,3]\n",
        "\n",
        "lista.pop() #remove o último item\n",
        "\n",
        "print(lista)"
      ],
      "execution_count": 2,
      "outputs": [
        {
          "output_type": "stream",
          "name": "stdout",
          "text": [
            "[1, 2]\n"
          ]
        }
      ]
    },
    {
      "cell_type": "markdown",
      "metadata": {
        "id": "M6pl6yBn2ARp"
      },
      "source": [
        "### limpando a lista (clear)"
      ]
    },
    {
      "cell_type": "code",
      "metadata": {
        "id": "lqLHJDDW2EG5"
      },
      "source": [
        "lista = [1,2,3]\n",
        "\n",
        "lista.clear()#limpa a lista inteira\n",
        "\n",
        "print(lista)"
      ],
      "execution_count": null,
      "outputs": []
    },
    {
      "cell_type": "markdown",
      "metadata": {
        "id": "hSY557xS3H5T"
      },
      "source": [
        "### Acha o index do valor (index)"
      ]
    },
    {
      "cell_type": "code",
      "metadata": {
        "colab": {
          "base_uri": "https://localhost:8080/"
        },
        "id": "Johpl5Pf27_z",
        "outputId": "d25feffc-9a03-4d92-993a-fd29612aea6d"
      },
      "source": [
        "lista = [1, 2, \"lala\", \"borracha\", \"a\"]\n",
        "\n",
        "lista.index(\"borracha\") "
      ],
      "execution_count": null,
      "outputs": [
        {
          "output_type": "execute_result",
          "data": {
            "text/plain": [
              "3"
            ]
          },
          "metadata": {},
          "execution_count": 4
        }
      ]
    },
    {
      "cell_type": "markdown",
      "metadata": {
        "id": "pfXJB_gz3WQ4"
      },
      "source": [
        "### Conta a quantidade de vezes que o dado aparece na lista (count)"
      ]
    },
    {
      "cell_type": "code",
      "metadata": {
        "colab": {
          "base_uri": "https://localhost:8080/"
        },
        "id": "KMoO8PIe3Qnb",
        "outputId": "31323ea4-6a50-440f-a566-e57613aeef8c"
      },
      "source": [
        "lista = [1, 2, \"lala\", \"borracha\", \"a\", \"borracha\"]\n",
        "\n",
        "lista.count(\"borracha\")"
      ],
      "execution_count": null,
      "outputs": [
        {
          "output_type": "execute_result",
          "data": {
            "text/plain": [
              "2"
            ]
          },
          "metadata": {},
          "execution_count": 6
        }
      ]
    },
    {
      "cell_type": "markdown",
      "metadata": {
        "id": "Djy_BeTR3ep5"
      },
      "source": [
        "### Ordena lista numérica em ordem crescente (sort)"
      ]
    },
    {
      "cell_type": "code",
      "metadata": {
        "colab": {
          "base_uri": "https://localhost:8080/"
        },
        "id": "82RJUIEv3fHV",
        "outputId": "fd1c3aa3-4989-4e0b-e1e0-0f423fac14dd"
      },
      "source": [
        "lista = [5,84,4,6,87,92,1]\n",
        "\n",
        "lista.sort()\n",
        "\n",
        "print(lista)"
      ],
      "execution_count": null,
      "outputs": [
        {
          "output_type": "stream",
          "text": [
            "[1, 4, 5, 6, 84, 87, 92]\n"
          ],
          "name": "stdout"
        }
      ]
    },
    {
      "cell_type": "markdown",
      "metadata": {
        "id": "W6LgEi1h4WC3"
      },
      "source": [
        "### retorna o reverso da lista"
      ]
    },
    {
      "cell_type": "code",
      "metadata": {
        "colab": {
          "base_uri": "https://localhost:8080/"
        },
        "id": "x1gMcdU-4Wkn",
        "outputId": "9761bf9e-e382-4b96-e303-c103ba7717b1"
      },
      "source": [
        "lista1 = ['ola', 'mundo']\n",
        "lista2 = [1,2,3,4,5]\n",
        "\n",
        "lista1.reverse()\n",
        "lista2.reverse()\n",
        "\n",
        "print(lista1)\n",
        "print(lista2)"
      ],
      "execution_count": null,
      "outputs": [
        {
          "output_type": "stream",
          "text": [
            "['mundo', 'ola']\n",
            "[5, 4, 3, 2, 1]\n"
          ],
          "name": "stdout"
        }
      ]
    }
  ]
}