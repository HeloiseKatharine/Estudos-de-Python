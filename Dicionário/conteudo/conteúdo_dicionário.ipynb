{
  "nbformat": 4,
  "nbformat_minor": 0,
  "metadata": {
    "colab": {
      "name": "conteúdo_dicionário.ipynb",
      "provenance": [],
      "collapsed_sections": []
    },
    "kernelspec": {
      "name": "python3",
      "display_name": "Python 3"
    },
    "language_info": {
      "name": "python"
    }
  },
  "cells": [
    {
      "cell_type": "markdown",
      "metadata": {
        "id": "EO4n9KE-Jkol"
      },
      "source": [
        "#Dicionário\n",
        "\n",
        "Link da documentação: https://docs.python.org/pt-br/3/tutorial/datastructures.html#dictionaries"
      ]
    },
    {
      "cell_type": "markdown",
      "metadata": {
        "id": "AhnM32xxKGQw"
      },
      "source": [
        "### Declarando dicionário"
      ]
    },
    {
      "cell_type": "code",
      "metadata": {
        "colab": {
          "base_uri": "https://localhost:8080/"
        },
        "id": "d2nBrxpUIMbQ",
        "outputId": "06840920-6c1a-499c-fe7c-a773cfa89b7a"
      },
      "source": [
        "dicionario = {}#vazio\n",
        "\n",
        "# {chave : valor} \n",
        "dicionario1 = {'100' : 'numero1', '101':'numero2', 'tres':'numero3'}\n",
        "\n",
        "print(dicionario1['tres'])\n",
        "\n",
        "livro = {\"titulo\": \"Pense em Python\", \"autor\": \"Allen B. Downey\", \"paginas\": 312, \"ano\": 2016}\n",
        "\n",
        "print(livro)"
      ],
      "execution_count": 12,
      "outputs": [
        {
          "output_type": "stream",
          "name": "stdout",
          "text": [
            "numero3\n",
            "{'titulo': 'Pense em Python', 'autor': 'Allen B. Downey', 'paginas': 312, 'ano': 2016}\n"
          ]
        }
      ]
    },
    {
      "cell_type": "markdown",
      "metadata": {
        "id": "xtQNEQNUM6rO"
      },
      "source": [
        "###Excluindo dado do dicionário"
      ]
    },
    {
      "cell_type": "code",
      "metadata": {
        "id": "Jn7ckdp3MvzK",
        "colab": {
          "base_uri": "https://localhost:8080/"
        },
        "outputId": "0608d8fb-ba8f-4546-caa7-a54bc5385758"
      },
      "source": [
        "dicionario1 = {'100' : 'numero1', 'dois':'numero2', 'tres':'numero3'}\n",
        "\n",
        "del dicionario1 ['100']\n",
        "\n",
        "print(dicionario1)"
      ],
      "execution_count": 2,
      "outputs": [
        {
          "output_type": "stream",
          "name": "stdout",
          "text": [
            "{'dois': 'numero2', 'tres': 'numero3'}\n"
          ]
        }
      ]
    },
    {
      "cell_type": "markdown",
      "metadata": {
        "id": "pgE0YgoDNK0N"
      },
      "source": [
        "###Alterando valores do dicionário"
      ]
    },
    {
      "cell_type": "code",
      "metadata": {
        "colab": {
          "base_uri": "https://localhost:8080/"
        },
        "id": "j7ppyNOcM_HS",
        "outputId": "7422b408-4bf5-46f0-e95e-5e3222d00cfa"
      },
      "source": [
        "dicionario1 = {'100' : 'numero1', 'dois':'numero2', 'tres':'numero3'}\n",
        "\n",
        "dicionario1['100'] = \"modificado\"\n",
        "\n",
        "print(dicionario1)"
      ],
      "execution_count": 3,
      "outputs": [
        {
          "output_type": "stream",
          "name": "stdout",
          "text": [
            "{'100': 'modificado', 'dois': 'numero2', 'tres': 'numero3'}\n"
          ]
        }
      ]
    },
    {
      "cell_type": "code",
      "metadata": {
        "id": "MHPXx_qbNPO-",
        "colab": {
          "base_uri": "https://localhost:8080/"
        },
        "outputId": "7ff60147-e7bf-4619-b612-2b1ab5203e06"
      },
      "source": [
        "dicionario1 = {'100' : 'numero1', 'dois':'numero2', 'tres':'numero3', 'show_de_rock':'12/08/2011'}\n",
        "\n",
        "for i in range(len(dicionario1)):  \n",
        "    if (dicionario1['show_de_rock'] == '12/08/2011'):\n",
        "        dicionario1['show_de_rock'] = '21/08/2021'\n",
        "\n",
        "print(dicionario1)"
      ],
      "execution_count": 4,
      "outputs": [
        {
          "output_type": "stream",
          "name": "stdout",
          "text": [
            "{'100': 'numero1', 'dois': 'numero2', 'tres': 'numero3', 'show_de_rock': '21/08/2021'}\n"
          ]
        }
      ]
    },
    {
      "cell_type": "markdown",
      "metadata": {
        "id": "T0EorTVsw_rC"
      },
      "source": [
        "### Imprimindo todas as chaves(keys) do dicionário\n",
        "\n",
        "---\n",
        "\n"
      ]
    },
    {
      "cell_type": "code",
      "metadata": {
        "id": "i_rEKrMTN55x",
        "colab": {
          "base_uri": "https://localhost:8080/"
        },
        "outputId": "0b5677b9-7435-48e4-f0e7-590b226bc3cd"
      },
      "source": [
        "dicionario1 = {'100' : 'numero1', 'dois':'numero2', 'tres':'numero3', 'show_de_rock':'12/08/2011'}\n",
        "\n",
        "print(dicionario1.keys())"
      ],
      "execution_count": 6,
      "outputs": [
        {
          "output_type": "stream",
          "name": "stdout",
          "text": [
            "dict_keys(['100', 'dois', 'tres', 'show_de_rock'])\n"
          ]
        }
      ]
    },
    {
      "cell_type": "markdown",
      "metadata": {
        "id": "43fGo77XxTZr"
      },
      "source": [
        "### Imprimindo todos os valores(values) do dicionário"
      ]
    },
    {
      "cell_type": "code",
      "metadata": {
        "colab": {
          "base_uri": "https://localhost:8080/"
        },
        "id": "Vxkk94F6xIdu",
        "outputId": "99059355-11bc-44eb-a773-eca05b32d5eb"
      },
      "source": [
        "dicionario1 = {'100' : 'numero1', 'dois':'numero2', 'tres':'numero3', 'show_de_rock':'12/08/2011'}\n",
        "\n",
        "print(dicionario1.values())"
      ],
      "execution_count": 7,
      "outputs": [
        {
          "output_type": "stream",
          "name": "stdout",
          "text": [
            "dict_values(['numero1', 'numero2', 'numero3', '12/08/2011'])\n"
          ]
        }
      ]
    },
    {
      "cell_type": "markdown",
      "metadata": {
        "id": "UoLUXat6xsTB"
      },
      "source": [
        "### Imprimindo todos os itens do dicionário"
      ]
    },
    {
      "cell_type": "code",
      "metadata": {
        "colab": {
          "base_uri": "https://localhost:8080/"
        },
        "id": "2EnxrqwWxeP9",
        "outputId": "a890b9c0-7fa7-4d9f-9b15-c5a7a883ca01"
      },
      "source": [
        "dicionario1 = {'100' : 'numero1', 'dois':'numero2', 'tres':'numero3', 'show_de_rock':'12/08/2011'}\n",
        "\n",
        "print(dicionario1.items())#retorna em tuplas "
      ],
      "execution_count": 11,
      "outputs": [
        {
          "output_type": "stream",
          "name": "stdout",
          "text": [
            "dict_items([('100', 'numero1'), ('dois', 'numero2'), ('tres', 'numero3'), ('show_de_rock', '12/08/2011')])\n"
          ]
        }
      ]
    }
  ]
}