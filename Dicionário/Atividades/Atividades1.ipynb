{
  "nbformat": 4,
  "nbformat_minor": 0,
  "metadata": {
    "colab": {
      "name": "Atividades1.ipynb",
      "provenance": [],
      "collapsed_sections": []
    },
    "kernelspec": {
      "name": "python3",
      "display_name": "Python 3"
    },
    "language_info": {
      "name": "python"
    }
  },
  "cells": [
    {
      "cell_type": "markdown",
      "metadata": {
        "id": "nY3OwfyfXnEn"
      },
      "source": [
        "### 1) Faça um programa que leia nome e média de um aluno, guardando também a situção em um dicionário. No final, mostre o conteúdo da estrutura na tela."
      ]
    },
    {
      "cell_type": "code",
      "metadata": {
        "id": "Ed-Bq9PNXgLA",
        "colab": {
          "base_uri": "https://localhost:8080/"
        },
        "outputId": "32dafa96-7172-4740-a1b9-3834f9e2d107"
      },
      "source": [
        "aluno = {}\n",
        "\n",
        "nome = input('Digite o nome do aluno: ')\n",
        "media = float(input('Digite a média do aluno: '))\n",
        "\n",
        "if media < 5:\n",
        "  situacao = \"reprovado(a)\"\n",
        "else:\n",
        "  situacao = \"aprovado(a)\"\n",
        "\n",
        "aluno = {'nome': nome, 'media':media, 'situacao':situacao}\n",
        "\n",
        "print(aluno)\n",
        "print('nome = {}\\nmedia = {}\\nsituação = {}'.format(aluno['nome'],aluno['media'], aluno['situacao']))\n"
      ],
      "execution_count": 2,
      "outputs": [
        {
          "output_type": "stream",
          "name": "stdout",
          "text": [
            "Digite o nome do aluno: Maria\n",
            "Digite a média do aluno: 10\n",
            "{'nome': 'Maria', 'media': 10.0, 'situacao': 'aprovado(a)'}\n",
            "nome = Maria\n",
            "media = 10.0\n",
            "situação = aprovado(a)\n"
          ]
        }
      ]
    },
    {
      "cell_type": "markdown",
      "metadata": {
        "id": "-9L2kALcRfi5"
      },
      "source": [
        "### 2)Faça um programa que verifique se um inteiro digitado pelo usuário está presente dentro de um dicionário. Crie o dicionário no próprio programa."
      ]
    },
    {
      "cell_type": "code",
      "metadata": {
        "id": "U5QnQhtoRoFV",
        "colab": {
          "base_uri": "https://localhost:8080/"
        },
        "outputId": "6e37b1e6-3c49-4bce-97e7-fcd1934ca51b"
      },
      "source": [
        "dicionario = {1:10, 2:5, 3:8, 4:6}\n",
        "\n",
        "print(dicionario)\n",
        "\n",
        "num = int(input('Digite um número: '))\n",
        "\n",
        "if num in dicionario.values():\n",
        "  print(\"Está no dicionário\")\n",
        "else:\n",
        "  print(\"Não está no dicionário\")\n",
        "\n"
      ],
      "execution_count": 11,
      "outputs": [
        {
          "output_type": "stream",
          "name": "stdout",
          "text": [
            "{1: 10, 2: 5, 3: 8, 4: 6}\n",
            "Digite um número: 7\n",
            "Não está no dicionário\n"
          ]
        }
      ]
    }
  ]
}