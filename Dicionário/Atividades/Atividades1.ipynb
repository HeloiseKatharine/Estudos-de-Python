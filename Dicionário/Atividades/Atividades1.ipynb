{
  "nbformat": 4,
  "nbformat_minor": 0,
  "metadata": {
    "colab": {
      "name": "Atividades.ipynb",
      "provenance": [],
      "collapsed_sections": []
    },
    "kernelspec": {
      "name": "python3",
      "display_name": "Python 3"
    },
    "language_info": {
      "name": "python"
    }
  },
  "cells": [
    {
      "cell_type": "markdown",
      "metadata": {
        "id": "nY3OwfyfXnEn"
      },
      "source": [
        "### 1) Faça um programa que leia nome e média de um aluno, guardando também a situção em um dicionário. No final, mostre o conteúdo da estrutura na tela."
      ]
    },
    {
      "cell_type": "code",
      "metadata": {
        "id": "Ed-Bq9PNXgLA"
      },
      "source": [
        "aluno = {}\n",
        "\n",
        "nome = input('Digite o nome do aluno: ')\n",
        "media = float(input('Digite a média do aluno: '))\n",
        "\n",
        "if media < 5:\n",
        "  situacao = \"reprovado\"\n",
        "else:\n",
        "  situacao = \"aprovado\"\n",
        "\n",
        "aluno = {'nome': nome, 'media':media, 'situacao':situacao}\n",
        "\n",
        "print(aluno)\n",
        "print('nome = {}\\nmedia = {}\\nsituação = {}'.format(aluno['nome'],aluno['media'], aluno['situacao']))\n"
      ],
      "execution_count": null,
      "outputs": []
    },
    {
      "cell_type": "markdown",
      "metadata": {
        "id": "-9L2kALcRfi5"
      },
      "source": [
        "### 2)Faça um programa que verifique se um inteiro digitado pelo usuário está presente dentro de um dicionário. Crie o dicionário no próprio programa."
      ]
    },
    {
      "cell_type": "code",
      "metadata": {
        "id": "U5QnQhtoRoFV"
      },
      "source": [
        ""
      ],
      "execution_count": null,
      "outputs": []
    }
  ]
}