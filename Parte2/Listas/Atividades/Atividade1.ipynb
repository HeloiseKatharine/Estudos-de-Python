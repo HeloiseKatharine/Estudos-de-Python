{
  "nbformat": 4,
  "nbformat_minor": 0,
  "metadata": {
    "colab": {
      "name": "Atividade1.ipynb",
      "provenance": [],
      "collapsed_sections": []
    },
    "kernelspec": {
      "name": "python3",
      "display_name": "Python 3"
    },
    "language_info": {
      "name": "python"
    }
  },
  "cells": [
    {
      "cell_type": "markdown",
      "metadata": {
        "id": "oDw7mI-urzVK"
      },
      "source": [
        "##1) Faça um Programa que leia uma lista de 5 números inteiros e mostre-os."
      ]
    },
    {
      "cell_type": "code",
      "metadata": {
        "id": "r0i9-UAPrwpQ"
      },
      "source": [
        "lista = [] #criando uma lista vazia \n",
        "\n",
        "for i in range(5):\n",
        "  lista.append(int(input('digite o {} valor da lista: '.format(i+1))))\n",
        "\n",
        "print(lista)"
      ],
      "execution_count": null,
      "outputs": []
    },
    {
      "cell_type": "markdown",
      "metadata": {
        "id": "NlqJ4Vk8r2hB"
      },
      "source": [
        "##2) Faça um Programa que leia uma lista de 10 números reais e mostre-os na ordem inversa."
      ]
    },
    {
      "cell_type": "code",
      "metadata": {
        "id": "7HHhffzgr4_l"
      },
      "source": [
        "lista = []\n",
        "\n",
        "for i in range(10):\n",
        "  num = float(input('digite o {} valor da lista: '.format(i+1)))\n",
        "  lista.append(num)\n",
        "\n",
        "lista.reverse()\n",
        "print(lista)"
      ],
      "execution_count": null,
      "outputs": []
    },
    {
      "cell_type": "markdown",
      "metadata": {
        "id": "PX4iev-mr7Tr"
      },
      "source": [
        "##3) Faça um Programa que leia 4 notas, mostre as notas e a média na tela."
      ]
    },
    {
      "cell_type": "code",
      "metadata": {
        "id": "MpzIwUMOr-Z0"
      },
      "source": [
        "#função nativa so python de soma utilizando lista \n",
        "\n",
        "notas = []\n",
        "soma = 0\n",
        "\n",
        "for i in range(4):\n",
        "  #num = float(input('digite a {} nota: '.format(i+1)))\n",
        "  #notas.append(num)\n",
        "  notas.append(float(input('digite a {} nota: '.format(i+1))))\n",
        "\n",
        "\n",
        "for i in notas:\n",
        "  soma += i\n",
        "\n",
        "print(\"\\nA média é: {}\".format(soma/4))"
      ],
      "execution_count": null,
      "outputs": []
    },
    {
      "cell_type": "markdown",
      "metadata": {
        "id": "eKpgqUo_sDC1"
      },
      "source": [
        "##4) Faça um Programa que leia 20 números inteiros e armazene-os numa lista. Armazene os números pares na listar PAR e os números IMPARES na lista ímpar. Imprima os três vetores."
      ]
    },
    {
      "cell_type": "code",
      "metadata": {
        "id": "eskY4lCHsHDS"
      },
      "source": [
        "numeros = []\n",
        "par = []\n",
        "impar = []\n",
        "\n",
        "#armazenando todos os numeros\n",
        "for i in range(4):\n",
        "  num = int(input('digite o {} numero: '.format(i+1)))\n",
        "  numeros.append(num)\n",
        "\n",
        "#Verificando os números pares e ímpares \n",
        "for i in numeros:\n",
        "  if(i%2 == 0):\n",
        "    par.append(i)\n",
        "  else:\n",
        "    impar.append(i)\n",
        "\n",
        "print(par)\n",
        "print(impar)"
      ],
      "execution_count": null,
      "outputs": []
    },
    {
      "cell_type": "code",
      "metadata": {
        "id": "dHaSl7y_AWU_"
      },
      "source": [
        "#Outra versão \n",
        "\n",
        "numeros = []\n",
        "par = []\n",
        "impar = []\n",
        "\n",
        "#armazenando todos os números\n",
        "for i in range(4):\n",
        "  numeros.append(int(input('digite o {} numero: '.format(i+1))))\n",
        "  #Verificando os números pares e ímpares \n",
        "  if(numeros[i]%2 == 0):\n",
        "    par.append(numeros[i])\n",
        "  else:\n",
        "    impar.append(numeros[i])\n",
        "\n",
        "print(par)\n",
        "print(impar)"
      ],
      "execution_count": null,
      "outputs": []
    },
    {
      "cell_type": "markdown",
      "metadata": {
        "id": "hGUoYdMFok5G"
      },
      "source": [
        "### 5) Faça um Programa que peça as quatro notas de 10 alunos, calcule e armazene numa lista a média de cada aluno, imprima o número de alunos com média maior ou igual a 7.0."
      ]
    },
    {
      "cell_type": "code",
      "metadata": {
        "id": "vd5w0ZLIornf"
      },
      "source": [
        "notas = []\n",
        "media = 0\n",
        "\n",
        "for i in range(2):\n",
        "  print('\\nAluno {}'.format(i+1))\n",
        "  for j in range(4):\n",
        "    nota = float(input('Digite a {} nota do aluno:'.format(j+1)))\n",
        "    media += nota\n",
        "  notas.append(media/4)\n",
        "  media = 0\n",
        "\n",
        "print('\\n')\n",
        "\n",
        "for i in range(len(notas)):\n",
        "  if notas[i] >= 7.0:\n",
        "    print('Aluno {} = {}'.format(i+1, notas[i]))\n"
      ],
      "execution_count": null,
      "outputs": []
    },
    {
      "cell_type": "markdown",
      "metadata": {
        "id": "JVgi0cyvruJz"
      },
      "source": [
        "### 6) Faça um programa que receba a temperatura média de cada mês do ano e armazene-as em uma lista. Após isto, calcule a média anual das temperaturas e mostre todas as temperaturas acima da média anual, e em que mês elas ocorreram(mostrar o mês por extenso: 1 – Janeiro, 2 – Fevereiro, . . . )."
      ]
    },
    {
      "cell_type": "code",
      "metadata": {
        "colab": {
          "base_uri": "https://localhost:8080/"
        },
        "id": "zmXyIkqvr98G",
        "outputId": "1b1acd8b-d6d3-482d-e4d1-b6329f9a0230"
      },
      "source": [
        "temp = []\n",
        "media = 0\n",
        "meses = ['Janeiro', 'Fevereiro', 'março', 'abril', 'maio', 'junho', 'julho', 'agosto', 'setembro', 'outubro', 'novembro', 'dezembro']\n",
        "\n",
        "for i in range(12):\n",
        "  temp.append(int(input(f'Digite a média da temperatura do mês {i}: ')))\n",
        "  media += temp[i]\n",
        "\n",
        "media /= len(temp)\n",
        "\n",
        "print('\\nmedia anual = {}'.format(media))\n",
        "print('acima da média anual:\\n')\n",
        "for i in range(len(temp)):\n",
        "  if temp[i] > media:\n",
        "    print(f'{i+1} - {meses[i]}')\n",
        "  "
      ],
      "execution_count": null,
      "outputs": [
        {
          "output_type": "stream",
          "text": [
            "Digite a média da temperatura do mês 0: 10\n",
            "Digite a média da temperatura do mês 1: 5\n",
            "Digite a média da temperatura do mês 2: 6\n",
            "\n",
            "media anual = 7.0\n",
            "acima da média anual:\n",
            "\n",
            "1 - Janeiro\n"
          ],
          "name": "stdout"
        }
      ]
    }
  ]
}