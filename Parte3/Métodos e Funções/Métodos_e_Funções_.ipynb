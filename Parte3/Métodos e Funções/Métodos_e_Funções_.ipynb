{
  "nbformat": 4,
  "nbformat_minor": 0,
  "metadata": {
    "colab": {
      "name": "Métodos e Funções .ipynb",
      "provenance": [],
      "collapsed_sections": []
    },
    "kernelspec": {
      "name": "python3",
      "display_name": "Python 3"
    },
    "language_info": {
      "name": "python"
    }
  },
  "cells": [
    {
      "cell_type": "markdown",
      "metadata": {
        "id": "C6RcPKRk3oLO"
      },
      "source": [
        "#Métodos"
      ]
    },
    {
      "cell_type": "code",
      "metadata": {
        "colab": {
          "base_uri": "https://localhost:8080/"
        },
        "id": "xOEaoJeS3DPT",
        "outputId": "dd15242c-fb00-4d41-9131-54b5ce774767"
      },
      "source": [
        "#lista todos os métodos e atributos\n",
        "lista = [1,2,3,4]\n",
        "\n",
        "dir(lista)"
      ],
      "execution_count": null,
      "outputs": [
        {
          "output_type": "execute_result",
          "data": {
            "text/plain": [
              "['__add__',\n",
              " '__class__',\n",
              " '__contains__',\n",
              " '__delattr__',\n",
              " '__delitem__',\n",
              " '__dir__',\n",
              " '__doc__',\n",
              " '__eq__',\n",
              " '__format__',\n",
              " '__ge__',\n",
              " '__getattribute__',\n",
              " '__getitem__',\n",
              " '__gt__',\n",
              " '__hash__',\n",
              " '__iadd__',\n",
              " '__imul__',\n",
              " '__init__',\n",
              " '__init_subclass__',\n",
              " '__iter__',\n",
              " '__le__',\n",
              " '__len__',\n",
              " '__lt__',\n",
              " '__mul__',\n",
              " '__ne__',\n",
              " '__new__',\n",
              " '__reduce__',\n",
              " '__reduce_ex__',\n",
              " '__repr__',\n",
              " '__reversed__',\n",
              " '__rmul__',\n",
              " '__setattr__',\n",
              " '__setitem__',\n",
              " '__sizeof__',\n",
              " '__str__',\n",
              " '__subclasshook__',\n",
              " 'append',\n",
              " 'clear',\n",
              " 'copy',\n",
              " 'count',\n",
              " 'extend',\n",
              " 'index',\n",
              " 'insert',\n",
              " 'pop',\n",
              " 'remove',\n",
              " 'reverse',\n",
              " 'sort']"
            ]
          },
          "metadata": {},
          "execution_count": 1
        }
      ]
    },
    {
      "cell_type": "markdown",
      "metadata": {
        "id": "g3z8kxghyee8"
      },
      "source": [
        "#Funções"
      ]
    },
    {
      "cell_type": "code",
      "metadata": {
        "colab": {
          "base_uri": "https://localhost:8080/"
        },
        "id": "8AXu-Micyhfk",
        "outputId": "82e53fd1-3051-49ed-d1f5-b90e74f58a30"
      },
      "source": [
        "def primeiraFunc():\n",
        "  print('Hello world!')\n",
        "\n",
        "#chamando a função \n",
        "primeiraFunc()"
      ],
      "execution_count": null,
      "outputs": [
        {
          "output_type": "stream",
          "name": "stdout",
          "text": [
            "Hello world!\n"
          ]
        }
      ]
    },
    {
      "cell_type": "code",
      "metadata": {
        "colab": {
          "base_uri": "https://localhost:8080/"
        },
        "id": "WwjLQ0x3zMlg",
        "outputId": "b43630c2-bcfc-44e5-902e-cf3e7c0ea9de"
      },
      "source": [
        "#função com parâmetro \n",
        "def funcNome(nome):\n",
        "  print('Hello %s' %(nome))\n",
        "\n",
        "#chamando a função \n",
        "funcNome('Maria')"
      ],
      "execution_count": null,
      "outputs": [
        {
          "output_type": "stream",
          "name": "stdout",
          "text": [
            "Hello Maria\n"
          ]
        }
      ]
    },
    {
      "cell_type": "code",
      "metadata": {
        "colab": {
          "base_uri": "https://localhost:8080/"
        },
        "id": "eQ_kezmEBXDf",
        "outputId": "8a1bd763-a9e8-4942-84f1-caefbbc72d6e"
      },
      "source": [
        "def funcLeitura():\n",
        "  for i in range(0,5):\n",
        "    print('Número ' + str(i))\n",
        "\n",
        "funcLeitura()"
      ],
      "execution_count": null,
      "outputs": [
        {
          "output_type": "stream",
          "name": "stdout",
          "text": [
            "Número 0\n",
            "Número 1\n",
            "Número 2\n",
            "Número 3\n",
            "Número 4\n"
          ]
        }
      ]
    },
    {
      "cell_type": "code",
      "metadata": {
        "colab": {
          "base_uri": "https://localhost:8080/"
        },
        "id": "sl14w-E8Cfwg",
        "outputId": "f43cd00d-4c2b-4c14-c5b2-e69aeeca4333"
      },
      "source": [
        "def addNum(num1, num2):\n",
        "  print('Primeiro número: ' + str(num1))\n",
        "  print('Segundo número: ' + str(num2))\n",
        "  print('Soma: ', num1 + num2)\n",
        "\n",
        "addNum(2, 2)"
      ],
      "execution_count": null,
      "outputs": [
        {
          "output_type": "stream",
          "name": "stdout",
          "text": [
            "Primeiro número: 2\n",
            "Segundo número: 2\n",
            "Soma:  4\n"
          ]
        }
      ]
    },
    {
      "cell_type": "markdown",
      "metadata": {
        "id": "XZOPZ4NsDODT"
      },
      "source": [
        "### Variáveis locais e globais "
      ]
    },
    {
      "cell_type": "code",
      "metadata": {
        "colab": {
          "base_uri": "https://localhost:8080/"
        },
        "id": "Ktn5YmnEDV5Q",
        "outputId": "28ab57fa-70ec-4d24-f469-71a6746028ca"
      },
      "source": [
        "#Variável  global \n",
        "var_global =  10\n",
        "\n",
        "def mul(num1, num2):\n",
        "  var_global = num1 * num2\n",
        "  print(var_global)\n",
        "\n",
        "mul(2, 4)\n",
        "print(var_global)"
      ],
      "execution_count": null,
      "outputs": [
        {
          "output_type": "stream",
          "name": "stdout",
          "text": [
            "8\n",
            "10\n"
          ]
        }
      ]
    },
    {
      "cell_type": "markdown",
      "metadata": {
        "id": "CHLuj6C8kOOu"
      },
      "source": [
        "# Funções Built-in"
      ]
    },
    {
      "cell_type": "code",
      "metadata": {
        "colab": {
          "base_uri": "https://localhost:8080/"
        },
        "id": "GKZhfydBkjUt",
        "outputId": "ec1feb85-4193-496f-a63f-f4ae55f590b9"
      },
      "source": [
        "#valor absoluto \n",
        "abs(-56)"
      ],
      "execution_count": null,
      "outputs": [
        {
          "output_type": "execute_result",
          "data": {
            "text/plain": [
              "56"
            ]
          },
          "metadata": {},
          "execution_count": 9
        }
      ]
    },
    {
      "cell_type": "code",
      "metadata": {
        "colab": {
          "base_uri": "https://localhost:8080/"
        },
        "id": "7g-u1mwikl7J",
        "outputId": "cbbaf879-0ff0-4640-e6fe-02c3fb123401"
      },
      "source": [
        "abs(45)"
      ],
      "execution_count": null,
      "outputs": [
        {
          "output_type": "execute_result",
          "data": {
            "text/plain": [
              "45"
            ]
          },
          "metadata": {},
          "execution_count": 10
        }
      ]
    },
    {
      "cell_type": "code",
      "metadata": {
        "colab": {
          "base_uri": "https://localhost:8080/"
        },
        "id": "m2khDYiRko-t",
        "outputId": "fb63e98b-adb1-4701-8515-e27461f1c1ca"
      },
      "source": [
        "bool(0)"
      ],
      "execution_count": null,
      "outputs": [
        {
          "output_type": "execute_result",
          "data": {
            "text/plain": [
              "False"
            ]
          },
          "metadata": {},
          "execution_count": 11
        }
      ]
    },
    {
      "cell_type": "code",
      "metadata": {
        "colab": {
          "base_uri": "https://localhost:8080/"
        },
        "id": "EkMpXcRhkrHM",
        "outputId": "4e0e7346-3064-4f7a-8191-c57b15e89221"
      },
      "source": [
        "bool(1)"
      ],
      "execution_count": null,
      "outputs": [
        {
          "output_type": "execute_result",
          "data": {
            "text/plain": [
              "True"
            ]
          },
          "metadata": {},
          "execution_count": 13
        }
      ]
    },
    {
      "cell_type": "markdown",
      "metadata": {
        "id": "yqo3U7iOku7B"
      },
      "source": [
        "# Funções str, int, float"
      ]
    },
    {
      "cell_type": "code",
      "metadata": {
        "colab": {
          "base_uri": "https://localhost:8080/"
        },
        "id": "sxLzgOlBk_TV",
        "outputId": "0e644523-5ce6-4ffb-b85e-3a21c6799525"
      },
      "source": [
        "# Erro ao executar por causa da conversão\n",
        "idade = int(input(\"Digite sua idade: \")) \n",
        "if idade > 13:\n",
        "  print('Você pode acessar o Facebook')"
      ],
      "execution_count": null,
      "outputs": [
        {
          "name": "stdout",
          "output_type": "stream",
          "text": [
            "Digite sua idade: 9\n"
          ]
        }
      ]
    },
    {
      "cell_type": "code",
      "metadata": {
        "colab": {
          "base_uri": "https://localhost:8080/"
        },
        "id": "KufioYmdy0Rz",
        "outputId": "6868303c-6e5a-407f-cfa8-990d5df9504e"
      },
      "source": [
        "int('26')"
      ],
      "execution_count": null,
      "outputs": [
        {
          "output_type": "execute_result",
          "data": {
            "text/plain": [
              "26"
            ]
          },
          "metadata": {},
          "execution_count": 15
        }
      ]
    },
    {
      "cell_type": "code",
      "metadata": {
        "colab": {
          "base_uri": "https://localhost:8080/"
        },
        "id": "J8P--S4ky3Vs",
        "outputId": "85cf16b1-f512-49b7-e6d4-959af96747e3"
      },
      "source": [
        "float('34.234')"
      ],
      "execution_count": null,
      "outputs": [
        {
          "output_type": "execute_result",
          "data": {
            "text/plain": [
              "34.234"
            ]
          },
          "metadata": {},
          "execution_count": 16
        }
      ]
    },
    {
      "cell_type": "code",
      "metadata": {
        "colab": {
          "base_uri": "https://localhost:8080/",
          "height": 35
        },
        "id": "wcQyZKRPy6qM",
        "outputId": "de9bd598-43b5-4acb-9da0-b81ee76dcc21"
      },
      "source": [
        "str(45)"
      ],
      "execution_count": null,
      "outputs": [
        {
          "output_type": "execute_result",
          "data": {
            "application/vnd.google.colaboratory.intrinsic+json": {
              "type": "string"
            },
            "text/plain": [
              "'45'"
            ]
          },
          "metadata": {},
          "execution_count": 17
        }
      ]
    },
    {
      "cell_type": "code",
      "metadata": {
        "colab": {
          "base_uri": "https://localhost:8080/"
        },
        "id": "0Sy-6ZTny8Rv",
        "outputId": "22b00f71-025d-4847-fd3d-5ecd3d920706"
      },
      "source": [
        "len([34, 34, 34])"
      ],
      "execution_count": null,
      "outputs": [
        {
          "output_type": "execute_result",
          "data": {
            "text/plain": [
              "3"
            ]
          },
          "metadata": {},
          "execution_count": 18
        }
      ]
    },
    {
      "cell_type": "code",
      "metadata": {
        "colab": {
          "base_uri": "https://localhost:8080/",
          "height": 35
        },
        "id": "T_UCai-lzBvK",
        "outputId": "05e20572-04f7-4fa2-b9d0-138f48565c61"
      },
      "source": [
        "array = ['a', 'b', 'c']\n",
        "\n",
        "#valor máximo \n",
        "max(array)"
      ],
      "execution_count": null,
      "outputs": [
        {
          "output_type": "execute_result",
          "data": {
            "application/vnd.google.colaboratory.intrinsic+json": {
              "type": "string"
            },
            "text/plain": [
              "'c'"
            ]
          },
          "metadata": {},
          "execution_count": 23
        }
      ]
    },
    {
      "cell_type": "code",
      "metadata": {
        "colab": {
          "base_uri": "https://localhost:8080/",
          "height": 35
        },
        "id": "WwPFcrbEzZY9",
        "outputId": "0646a79c-05e8-4a23-ada9-4e57a1ebe988"
      },
      "source": [
        "#valor mínimo\n",
        "min(array)"
      ],
      "execution_count": null,
      "outputs": [
        {
          "output_type": "execute_result",
          "data": {
            "application/vnd.google.colaboratory.intrinsic+json": {
              "type": "string"
            },
            "text/plain": [
              "'a'"
            ]
          },
          "metadata": {},
          "execution_count": 24
        }
      ]
    },
    {
      "cell_type": "code",
      "metadata": {
        "colab": {
          "base_uri": "https://localhost:8080/"
        },
        "id": "JoO0s2kMzj0K",
        "outputId": "9ca8a2f8-3038-4f9f-dffe-04979dd62f88"
      },
      "source": [
        "#soma os elementos da lista\n",
        "lista = [4, 23, 2, 2]\n",
        "sum(lista)"
      ],
      "execution_count": null,
      "outputs": [
        {
          "output_type": "execute_result",
          "data": {
            "text/plain": [
              "31"
            ]
          },
          "metadata": {},
          "execution_count": 25
        }
      ]
    },
    {
      "cell_type": "markdown",
      "metadata": {
        "id": "5tpoDSlxLq5_"
      },
      "source": [
        "# Criando funções usando outras funções "
      ]
    },
    {
      "cell_type": "code",
      "metadata": {
        "id": "2dwN1FekLxvH"
      },
      "source": [
        "import math\n",
        "\n",
        "def numPrimo(num):\n",
        "  if (num % 2) == 0 and num > 2:\n",
        "    return \"Este número não é primo\"\n",
        "  for i in range(3, int(math.sqrt(num)) + 1, 2):\n",
        "    if(num % i) == 0:\n",
        "      return \"Este número não é primo\"\n",
        "  return \"Este número é primo\""
      ],
      "execution_count": 31,
      "outputs": []
    },
    {
      "cell_type": "code",
      "metadata": {
        "colab": {
          "base_uri": "https://localhost:8080/",
          "height": 35
        },
        "id": "GXpyv0UANJUL",
        "outputId": "17742a08-c41c-428e-a75e-9c629b9cca7d"
      },
      "source": [
        "numPrimo(4)"
      ],
      "execution_count": 33,
      "outputs": [
        {
          "output_type": "execute_result",
          "data": {
            "application/vnd.google.colaboratory.intrinsic+json": {
              "type": "string"
            },
            "text/plain": [
              "'Este número não é primo'"
            ]
          },
          "metadata": {},
          "execution_count": 33
        }
      ]
    },
    {
      "cell_type": "markdown",
      "metadata": {
        "id": "5Zalywg8MpYF"
      },
      "source": [
        "# Fazendo split dos dados"
      ]
    },
    {
      "cell_type": "code",
      "metadata": {
        "colab": {
          "base_uri": "https://localhost:8080/"
        },
        "id": "nDVIX3RSN_jL",
        "outputId": "96c5cbfa-5497-4ce1-cebc-360eaf3b66ef"
      },
      "source": [
        "def split_string(text):\n",
        "  return text.split(\" \")\n",
        "\n",
        "texto = 'Olá, mundo'\n",
        "\n",
        "split_string(texto)"
      ],
      "execution_count": 38,
      "outputs": [
        {
          "output_type": "execute_result",
          "data": {
            "text/plain": [
              "['Olá,', 'mundo']"
            ]
          },
          "metadata": {},
          "execution_count": 38
        }
      ]
    },
    {
      "cell_type": "code",
      "metadata": {
        "colab": {
          "base_uri": "https://localhost:8080/",
          "height": 35
        },
        "id": "O57fMO-4OXx5",
        "outputId": "e2c308c9-be07-48a0-bb46-10b79630245e"
      },
      "source": [
        "def lowercase(text):\n",
        "  return text.lower()\n",
        "\n",
        "texto = 'Olá, mundo'\n",
        "lowercase(texto)"
      ],
      "execution_count": 37,
      "outputs": [
        {
          "output_type": "execute_result",
          "data": {
            "application/vnd.google.colaboratory.intrinsic+json": {
              "type": "string"
            },
            "text/plain": [
              "'olá, mundo'"
            ]
          },
          "metadata": {},
          "execution_count": 37
        }
      ]
    },
    {
      "cell_type": "markdown",
      "metadata": {
        "id": "_2fuSd0iP6mO"
      },
      "source": [
        "# Funções com número variável de argumentos"
      ]
    },
    {
      "cell_type": "code",
      "metadata": {
        "id": "H14KzJuYPd_J"
      },
      "source": [
        "def printVarInfo(arg1, *vartuple):\n",
        "  #imprime o valor do primeiro argumento\n",
        "  print('O parâmetro passado foi: ', arg1)\n",
        "\n",
        "  #imprime o valor do segundo argumento\n",
        "  for i in vartuple:\n",
        "    print('O parâmetro passado foi: ', i)\n",
        "  return;\n"
      ],
      "execution_count": 39,
      "outputs": []
    },
    {
      "cell_type": "code",
      "metadata": {
        "colab": {
          "base_uri": "https://localhost:8080/"
        },
        "id": "gFJ_WRqUQ0vR",
        "outputId": "29798c71-9cbb-4c05-f299-b76be1f73cd6"
      },
      "source": [
        "printVarInfo(10)"
      ],
      "execution_count": 40,
      "outputs": [
        {
          "output_type": "stream",
          "name": "stdout",
          "text": [
            "O parâmetro passado foi:  10\n"
          ]
        }
      ]
    },
    {
      "cell_type": "code",
      "metadata": {
        "colab": {
          "base_uri": "https://localhost:8080/"
        },
        "id": "t2xMSEcVRCdi",
        "outputId": "f139bcf0-3b83-4a8e-d2de-62ad2ad14841"
      },
      "source": [
        "printVarInfo('Um, dois, três')"
      ],
      "execution_count": 41,
      "outputs": [
        {
          "output_type": "stream",
          "name": "stdout",
          "text": [
            "O parâmetro passado foi:  Um, dois, três\n"
          ]
        }
      ]
    },
    {
      "cell_type": "markdown",
      "metadata": {
        "id": "axIyJI6fRpMI"
      },
      "source": [
        "# Expressões Lambda\n",
        "\n",
        "Expressões Lambda nos permite criar funções \"anônimas\". Isto significa que podemos criar funções sem a necessidade de definir uma função usando a palavra reservada def. \n",
        "\n",
        "1. O corpo do lambda é uma única expressão, não um bloco de instruções.\n",
        "2. O corpo do lambda é semelhante a uma instrução de retorno do corpo def.\n",
        "3. Expressões lambda são usadas para criar funções simples (funções in-line ou funções anônimas).\n",
        "4. Lambda cria um objeto, mas o retorna como um resultado em tempo de execução. \n"
      ]
    },
    {
      "cell_type": "code",
      "metadata": {
        "id": "10Km3nwzTTlZ"
      },
      "source": [
        "#def\n",
        "\n",
        "def potencia(num):\n",
        "  result = num**2\n",
        "  return result"
      ],
      "execution_count": 42,
      "outputs": []
    },
    {
      "cell_type": "code",
      "metadata": {
        "colab": {
          "base_uri": "https://localhost:8080/"
        },
        "id": "elDRJ56JURBQ",
        "outputId": "5c6ef27d-c3df-49ad-97af-908658709ed2"
      },
      "source": [
        "potencia(5)"
      ],
      "execution_count": 43,
      "outputs": [
        {
          "output_type": "execute_result",
          "data": {
            "text/plain": [
              "25"
            ]
          },
          "metadata": {},
          "execution_count": 43
        }
      ]
    },
    {
      "cell_type": "code",
      "metadata": {
        "id": "hVZ4PxNNUVWQ"
      },
      "source": [
        "#def simplificada\n",
        "\n",
        "def potencia(num):\n",
        "  return num**2"
      ],
      "execution_count": 44,
      "outputs": []
    },
    {
      "cell_type": "code",
      "metadata": {
        "colab": {
          "base_uri": "https://localhost:8080/"
        },
        "id": "gz046W6vUbgT",
        "outputId": "2f52652e-ed7b-4b62-a01c-196ee230c9cb"
      },
      "source": [
        "potencia(5)"
      ],
      "execution_count": 45,
      "outputs": [
        {
          "output_type": "execute_result",
          "data": {
            "text/plain": [
              "25"
            ]
          },
          "metadata": {},
          "execution_count": 45
        }
      ]
    },
    {
      "cell_type": "code",
      "metadata": {
        "id": "JRGCXajpUeCt"
      },
      "source": [
        "#def simplificada parte 2\n",
        "\n",
        "def potencia(num): return num**2"
      ],
      "execution_count": 46,
      "outputs": []
    },
    {
      "cell_type": "code",
      "metadata": {
        "colab": {
          "base_uri": "https://localhost:8080/"
        },
        "id": "saTstiEmUiw0",
        "outputId": "6dff99eb-30a9-402f-9981-de97dad193e4"
      },
      "source": [
        "potencia(5)"
      ],
      "execution_count": 47,
      "outputs": [
        {
          "output_type": "execute_result",
          "data": {
            "text/plain": [
              "25"
            ]
          },
          "metadata": {},
          "execution_count": 47
        }
      ]
    },
    {
      "cell_type": "code",
      "metadata": {
        "id": "ZtBJtK-KUpxy"
      },
      "source": [
        "# definindo uma expressão lambda\n",
        "\n",
        "potencia = lambda num: num**2"
      ],
      "execution_count": 48,
      "outputs": []
    },
    {
      "cell_type": "code",
      "metadata": {
        "colab": {
          "base_uri": "https://localhost:8080/"
        },
        "id": "LmBWw5BqU2_T",
        "outputId": "af41e390-e26f-443d-fb5c-2a036356e346"
      },
      "source": [
        "potencia(5)"
      ],
      "execution_count": 49,
      "outputs": [
        {
          "output_type": "execute_result",
          "data": {
            "text/plain": [
              "25"
            ]
          },
          "metadata": {},
          "execution_count": 49
        }
      ]
    },
    {
      "cell_type": "code",
      "metadata": {
        "colab": {
          "base_uri": "https://localhost:8080/"
        },
        "id": "yTIzd_tcVEaT",
        "outputId": "0304206f-2c0e-49bc-dd7b-7adac0a65e9d"
      },
      "source": [
        "Par = lambda x: x%2 == 0 \n",
        "\n",
        "Par(3)"
      ],
      "execution_count": 54,
      "outputs": [
        {
          "output_type": "execute_result",
          "data": {
            "text/plain": [
              "False"
            ]
          },
          "metadata": {},
          "execution_count": 54
        }
      ]
    },
    {
      "cell_type": "code",
      "metadata": {
        "colab": {
          "base_uri": "https://localhost:8080/",
          "height": 35
        },
        "id": "hlhPPSHEVR2H",
        "outputId": "3a15eaa3-7bc3-4739-b523-6d9196b6c17d"
      },
      "source": [
        "first = lambda s: s[0]\n",
        "\n",
        "first('Python')"
      ],
      "execution_count": 55,
      "outputs": [
        {
          "output_type": "execute_result",
          "data": {
            "application/vnd.google.colaboratory.intrinsic+json": {
              "type": "string"
            },
            "text/plain": [
              "'P'"
            ]
          },
          "metadata": {},
          "execution_count": 55
        }
      ]
    },
    {
      "cell_type": "code",
      "metadata": {
        "colab": {
          "base_uri": "https://localhost:8080/",
          "height": 35
        },
        "id": "w8cpAj4oVlf5",
        "outputId": "0cd489d8-c167-4188-af54-1b784c9eef99"
      },
      "source": [
        "reverso = lambda s: s[::-1]\n",
        "\n",
        "reverso('Python')"
      ],
      "execution_count": 57,
      "outputs": [
        {
          "output_type": "execute_result",
          "data": {
            "application/vnd.google.colaboratory.intrinsic+json": {
              "type": "string"
            },
            "text/plain": [
              "'nohtyP'"
            ]
          },
          "metadata": {},
          "execution_count": 57
        }
      ]
    },
    {
      "cell_type": "code",
      "metadata": {
        "colab": {
          "base_uri": "https://localhost:8080/"
        },
        "id": "HqCo3kwOV4oM",
        "outputId": "40db16e3-c93e-4e18-ba61-01a5fd3dcacb"
      },
      "source": [
        "addNum = lambda x, y : x+y\n",
        "addNum(2, 2)"
      ],
      "execution_count": 58,
      "outputs": [
        {
          "output_type": "execute_result",
          "data": {
            "text/plain": [
              "4"
            ]
          },
          "metadata": {},
          "execution_count": 58
        }
      ]
    },
    {
      "cell_type": "code",
      "metadata": {
        "colab": {
          "base_uri": "https://localhost:8080/"
        },
        "id": "UNI70h-cWoiw",
        "outputId": "a484a564-7d28-47ca-fb11-2c512ef2f5c0"
      },
      "source": [
        "listaB = [32,53,85,10,15,17,19]\n",
        "soma = 0\n",
        "for i in listaB:\n",
        "    double_i = i * 2\n",
        "    soma += double_i\n",
        "\n",
        "print(soma)"
      ],
      "execution_count": 59,
      "outputs": [
        {
          "output_type": "stream",
          "name": "stdout",
          "text": [
            "462\n"
          ]
        }
      ]
    }
  ]
}