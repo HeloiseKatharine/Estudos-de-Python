{
  "nbformat": 4,
  "nbformat_minor": 0,
  "metadata": {
    "colab": {
      "name": "Atividades1.ipynb",
      "provenance": [],
      "collapsed_sections": []
    },
    "kernelspec": {
      "name": "python3",
      "display_name": "Python 3"
    },
    "language_info": {
      "name": "python"
    }
  },
  "cells": [
    {
      "cell_type": "markdown",
      "metadata": {
        "id": "0OkdDJU-RuHY"
      },
      "source": [
        "### 1) Exercício Contando vogais em Tupla\n",
        "### Crie um programa que tenha uma tupla com várias palavras (não usar acentos).Depois disso, você deve mostrar, para cada palavra, quais são as suas vogais."
      ]
    },
    {
      "cell_type": "code",
      "metadata": {
        "colab": {
          "base_uri": "https://localhost:8080/"
        },
        "id": "zPsoXaV_Rs3e",
        "outputId": "466ee3d7-313e-4037-e717-75e89ed79078"
      },
      "source": [
        "#versão 1.0\n",
        "\n",
        "tupla = ('brasil', 'argentina', 'chile', 'peru')\n",
        "\n",
        "for i in range(len(tupla)):\n",
        "  print('{}'.format(tupla[i]))\n",
        "  for j in range(len(tupla[i])):\n",
        "    if tupla[i][j] == 'a':\n",
        "      print('a', end=' ')\n",
        "    if tupla[i][j] == 'e':\n",
        "      print('e', end=' ')\n",
        "    if tupla[i][j] == 'i':\n",
        "      print('i', end=' ')\n",
        "    if tupla[i][j] == 'o':\n",
        "      print('o', end=' ')\n",
        "    if tupla[i][j] == 'u':\n",
        "      print('u', end=' ')\n",
        "  print('\\n')\n"
      ],
      "execution_count": null,
      "outputs": [
        {
          "output_type": "stream",
          "text": [
            "brasil\n",
            "a i \n",
            "\n",
            "argentina\n",
            "a e i a \n",
            "\n",
            "chile\n",
            "i e \n",
            "\n",
            "peru\n",
            "e u \n",
            "\n"
          ],
          "name": "stdout"
        }
      ]
    },
    {
      "cell_type": "code",
      "metadata": {
        "colab": {
          "base_uri": "https://localhost:8080/"
        },
        "id": "2Fc06yewesE3",
        "outputId": "a2e62746-8ae7-4954-a6c4-7cdea13bf40c"
      },
      "source": [
        "#versão 2.0\n",
        "\n",
        "tupla = ('brasil', 'argentina', 'chile', 'peru')\n",
        "\n",
        "for palavra in tupla:\n",
        "  print(palavra)\n",
        "  for letra in palavra:\n",
        "    if letra.lower() in \"aeiou\":\n",
        "      print(letra, end = ' ')\n",
        "  print('\\n')"
      ],
      "execution_count": null,
      "outputs": [
        {
          "output_type": "stream",
          "text": [
            "brasil\n",
            "a i \n",
            "\n",
            "argentina\n",
            "a e i a \n",
            "\n",
            "chile\n",
            "i e \n",
            "\n",
            "peru\n",
            "e u \n",
            "\n"
          ],
          "name": "stdout"
        }
      ]
    },
    {
      "cell_type": "markdown",
      "metadata": {
        "id": "eUqupWCly5yf"
      },
      "source": [
        "### 2) Exercício Maior e menor valores em Tupla \n",
        "### Crie um programa que vai gerar cinco números aleatórios e colocar em uma tupla. Depois disso, mostre a listagem de números gerados e também indique o menor e o maior valor que estão na tupla.\n"
      ]
    },
    {
      "cell_type": "code",
      "metadata": {
        "id": "s2Z02eOazI4A"
      },
      "source": [
        "#?\n",
        "from random import randrange\n",
        "\n",
        "tupla = ()\n",
        "tupla = 'kdsd'\n",
        "tupla = 'oko'\n",
        "\n",
        "print(tupla)\n",
        "print(randrange(0, 100)) \n"
      ],
      "execution_count": null,
      "outputs": []
    }
  ]
}