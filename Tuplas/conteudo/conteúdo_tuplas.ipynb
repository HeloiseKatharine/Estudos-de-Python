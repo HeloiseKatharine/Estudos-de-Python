{
  "nbformat": 4,
  "nbformat_minor": 0,
  "metadata": {
    "colab": {
      "name": "conteúdo_tuplas.ipynb",
      "provenance": [],
      "collapsed_sections": []
    },
    "kernelspec": {
      "name": "python3",
      "display_name": "Python 3"
    },
    "language_info": {
      "name": "python"
    }
  },
  "cells": [
    {
      "cell_type": "markdown",
      "metadata": {
        "id": "mrmvLTX2FOfM"
      },
      "source": [
        "#Tuplas"
      ]
    },
    {
      "cell_type": "markdown",
      "metadata": {
        "id": "Xy3afA3TG2R2"
      },
      "source": [
        "* Tuplas são imutaveis (Não pode alterar os valores)\n",
        "\n",
        "\n",
        "\n"
      ]
    },
    {
      "cell_type": "markdown",
      "metadata": {
        "id": "EW3CPSlCFR9W"
      },
      "source": [
        "### Declaração de tuplas"
      ]
    },
    {
      "cell_type": "code",
      "metadata": {
        "id": "c_JXud2pE5oi",
        "colab": {
          "base_uri": "https://localhost:8080/"
        },
        "outputId": "fdac8d99-531a-406e-9f54-c75ee7b986ef"
      },
      "source": [
        "tupla = 'a', 'b', 'c', 'd'\n",
        "\n",
        "tupla1 =  ('a', 'b', 'c') #mais utilizada\n",
        "\n",
        "tupla2 = ('a',) #tem que ter a vírgula depois \n",
        "\n",
        "tupla3 = ('a') #sem a vírgula é str e não tupla\n",
        "\n",
        "tupla4 = () #tupla vazia\n",
        "\n",
        "print(tupla1)\n",
        "print(type(tupla2))\n",
        "print(type(tupla3))"
      ],
      "execution_count": 2,
      "outputs": [
        {
          "output_type": "stream",
          "name": "stdout",
          "text": [
            "('a', 'b', 'c')\n",
            "<class 'tuple'>\n",
            "<class 'str'>\n"
          ]
        }
      ]
    },
    {
      "cell_type": "markdown",
      "metadata": {
        "id": "EnxXOfBPFyQd"
      },
      "source": [
        "###Imprimindo valores da tupla"
      ]
    },
    {
      "cell_type": "code",
      "metadata": {
        "colab": {
          "base_uri": "https://localhost:8080/"
        },
        "id": "0d5RBXJFF28M",
        "outputId": "12bae13f-0ac4-48d1-d686-4c9aa7f3d9a3"
      },
      "source": [
        "tupla =  ('a', 'b', 'c') \n",
        "\n",
        "print(tupla[0])\n",
        "print(tupla[1])\n",
        "print(tupla[2])\n"
      ],
      "execution_count": 3,
      "outputs": [
        {
          "output_type": "stream",
          "name": "stdout",
          "text": [
            "a\n",
            "b\n",
            "c\n"
          ]
        }
      ]
    },
    {
      "cell_type": "code",
      "metadata": {
        "colab": {
          "base_uri": "https://localhost:8080/"
        },
        "id": "fLFHRqIbGIpK",
        "outputId": "141b812c-6e84-46ca-8a89-e5115a7065ff"
      },
      "source": [
        "frutas = ('banana', 'abacate', 'jabuticaba')\n",
        "\n",
        "for nome in frutas:\n",
        "  print('O nome é:', nome)"
      ],
      "execution_count": 4,
      "outputs": [
        {
          "output_type": "stream",
          "name": "stdout",
          "text": [
            "O nome é: banana\n",
            "O nome é: abacate\n",
            "O nome é: jabuticaba\n"
          ]
        }
      ]
    }
  ]
}